{
 "cells": [
  {
   "cell_type": "code",
   "execution_count": null,
   "id": "3398900f",
   "metadata": {},
   "outputs": [],
   "source": [
    "#Q1. Write a program to find all pairs of an integer array whose sum is equal to a given number?"
   ]
  },
  {
   "cell_type": "code",
   "execution_count": 4,
   "id": "2bc48da2",
   "metadata": {},
   "outputs": [],
   "source": [
    "def getPairsCount(arr, n, summation):\n",
    " \n",
    "    count = 0  \n",
    "    for i in range(0, n):\n",
    "        for j in range(i + 1, n):\n",
    "            if arr[i] + arr[j] == summation:\n",
    "                count += 1\n",
    " \n",
    "    return count"
   ]
  },
  {
   "cell_type": "code",
   "execution_count": null,
   "id": "f35551f4",
   "metadata": {},
   "outputs": [],
   "source": [
    "#Q2. Write a program to reverse an array in place? In place means you cannot create a new array. You have to update the original array."
   ]
  },
  {
   "cell_type": "code",
   "execution_count": 5,
   "id": "c5c23604",
   "metadata": {},
   "outputs": [
    {
     "name": "stdout",
     "output_type": "stream",
     "text": [
      "No. of pair is : 3\n"
     ]
    }
   ],
   "source": [
    "arr=[1,2,3,4,-1,7,5]\n",
    "n=len(arr)\n",
    "summation = 6\n",
    "print('No. of pair is :',getPairsCount(arr,n,summation))"
   ]
  },
  {
   "cell_type": "code",
   "execution_count": 5,
   "id": "ac5cde01",
   "metadata": {},
   "outputs": [
    {
     "name": "stdout",
     "output_type": "stream",
     "text": [
      "Original array: \n",
      "1\t2\t3\t4\t5\tArray in reverse order: \t5\t4\t3\t2\t1\t"
     ]
    }
   ],
   "source": [
    "#Initialize array     \n",
    "arr = [1, 2, 3, 4, 5];     \n",
    "print(\"Original array: \");    \n",
    "for i in range(0, len(arr)):    \n",
    "    print(arr[i],end='\\t'),     \n",
    "print(\"Array in reverse order: \",end='\\t');    \n",
    "#Loop through the array in reverse order    \n",
    "for i in range(len(arr)-1, -1, -1):     \n",
    "    print(arr[i],end='\\t'),  "
   ]
  },
  {
   "cell_type": "code",
   "execution_count": null,
   "id": "7ac3eae1",
   "metadata": {},
   "outputs": [],
   "source": [
    "#Q3. Write a program to check if two strings are a rotation of each other?"
   ]
  },
  {
   "cell_type": "code",
   "execution_count": 6,
   "id": "659fe4bc",
   "metadata": {},
   "outputs": [],
   "source": [
    "def check_rotation(s, goal):\n",
    " \n",
    "    if (len(s) != len(goal)):\n",
    "        skip\n",
    " \n",
    "    q1 = []\n",
    "    for i in range(len(s)):\n",
    "        q1.insert(0, s[i])\n",
    " \n",
    "    q2 = []\n",
    "    for i in range(len(goal)):\n",
    "        q2.insert(0, goal[i])\n",
    " \n",
    "    k = len(goal)\n",
    "    while (k > 0):\n",
    "        ch = q2[0]\n",
    "        q2.pop(0)\n",
    "        q2.insert(0, ch)\n",
    "        if (q2 == q1):\n",
    "            return True\n",
    " \n",
    "        k -= 1\n",
    " \n",
    "    return False"
   ]
  },
  {
   "cell_type": "code",
   "execution_count": 10,
   "id": "24d46ba8",
   "metadata": {},
   "outputs": [
    {
     "data": {
      "text/plain": [
       "False"
      ]
     },
     "execution_count": 10,
     "metadata": {},
     "output_type": "execute_result"
    }
   ],
   "source": [
    "check_rotation('abcd','dcba')"
   ]
  },
  {
   "cell_type": "code",
   "execution_count": null,
   "id": "31e5a491",
   "metadata": {},
   "outputs": [],
   "source": [
    "#Q4. Write a program to print the first non-repeated character from a string?"
   ]
  },
  {
   "cell_type": "code",
   "execution_count": 13,
   "id": "5c1ece68",
   "metadata": {},
   "outputs": [],
   "source": [
    "def firstNonRepeatingChar(str1):\n",
    "    char_order = []\n",
    "    counts = {}\n",
    "    for c in str1:\n",
    "        if c in counts:\n",
    "           counts[c] += 1\n",
    "        else:\n",
    "           counts[c] = 1\n",
    "           char_order.append(c)\n",
    "    for c in char_order:\n",
    "        if counts[c] == 1:\n",
    "            return c\n",
    "    return None"
   ]
  },
  {
   "cell_type": "code",
   "execution_count": 14,
   "id": "c1f98a74",
   "metadata": {},
   "outputs": [
    {
     "name": "stdout",
     "output_type": "stream",
     "text": [
      "M\n",
      "u\n",
      "None\n"
     ]
    }
   ],
   "source": [
    "print(firstNonRepeatingChar('PythonforallPythonMustforall'))\n",
    "print(firstNonRepeatingChar('tutorialspointfordeveloper'))\n",
    "print(firstNonRepeatingChar('AABBCC'))"
   ]
  },
  {
   "cell_type": "code",
   "execution_count": null,
   "id": "ae48ff68",
   "metadata": {},
   "outputs": [],
   "source": [
    "#Q5. Read about the Tower of Hanoi algorithm. Write a program to implement it."
   ]
  },
  {
   "cell_type": "code",
   "execution_count": 16,
   "id": "4ad3f430",
   "metadata": {},
   "outputs": [],
   "source": [
    "def TowerOfHanoi(n , source, destination, auxiliary):\n",
    "    if n==1:\n",
    "        print (\"Move disk 1 from source\",source,\"to destination\",destination)\n",
    "        return\n",
    "    TowerOfHanoi(n-1, source, auxiliary, destination)\n",
    "    print (\"Move disk\",n,\"from source\",source,\"to destination\",destination)\n",
    "    TowerOfHanoi(n-1, auxiliary, destination, source)\n",
    "          "
   ]
  },
  {
   "cell_type": "code",
   "execution_count": 17,
   "id": "fda76090",
   "metadata": {},
   "outputs": [
    {
     "name": "stdout",
     "output_type": "stream",
     "text": [
      "Move disk 1 from source A to destination C\n",
      "Move disk 2 from source A to destination B\n",
      "Move disk 1 from source C to destination B\n",
      "Move disk 3 from source A to destination C\n",
      "Move disk 1 from source B to destination A\n",
      "Move disk 2 from source B to destination C\n",
      "Move disk 1 from source A to destination C\n",
      "Move disk 4 from source A to destination B\n",
      "Move disk 1 from source C to destination B\n",
      "Move disk 2 from source C to destination A\n",
      "Move disk 1 from source B to destination A\n",
      "Move disk 3 from source C to destination B\n",
      "Move disk 1 from source A to destination C\n",
      "Move disk 2 from source A to destination B\n",
      "Move disk 1 from source C to destination B\n"
     ]
    }
   ],
   "source": [
    "n = 4\n",
    "TowerOfHanoi(n,'A','B','C') \n",
    "# A, C, B are the name of rods"
   ]
  },
  {
   "cell_type": "code",
   "execution_count": 18,
   "id": "6e4ef31a",
   "metadata": {},
   "outputs": [],
   "source": [
    "#Q6. Read about infix, prefix, and postfix expressions. Write a program to convert postfix to prefix expression"
   ]
  },
  {
   "cell_type": "code",
   "execution_count": 19,
   "id": "95cd1b92",
   "metadata": {},
   "outputs": [
    {
     "name": "stdout",
     "output_type": "stream",
     "text": [
      "ABC/-AK/L-*\n"
     ]
    }
   ],
   "source": [
    "s = \"*-A/BC-/AKL\"\n",
    " \n",
    "# Stack for storing operands\n",
    "stack = []\n",
    " \n",
    "operators = set(['+', '-', '*', '/', '^'])\n",
    " \n",
    "# Reversing the order\n",
    "s = s[::-1]\n",
    " \n",
    "# iterating through individual tokens\n",
    "for i in s:\n",
    " \n",
    "    # if token is operator\n",
    "    if i in operators:\n",
    " \n",
    "        # pop 2 elements from stack\n",
    "        a = stack.pop()\n",
    "        b = stack.pop()\n",
    " \n",
    "        # concatenate them as operand1 +\n",
    "        # operand2 + operator\n",
    "        temp = a+b+i\n",
    "        stack.append(temp)\n",
    " \n",
    "    # else if operand\n",
    "    else:\n",
    "        stack.append(i)\n",
    "#printing final output\n",
    "print(*stack)"
   ]
  },
  {
   "cell_type": "code",
   "execution_count": null,
   "id": "058ee126",
   "metadata": {},
   "outputs": [],
   "source": [
    "#Q7. Write a program to convert prefix expression to infix expression."
   ]
  },
  {
   "cell_type": "code",
   "execution_count": 20,
   "id": "a6dd7166",
   "metadata": {},
   "outputs": [],
   "source": [
    "# Python Program to convert prefix to Infix\n",
    "def prefixToInfix(prefix):\n",
    "    stack = []\n",
    "     \n",
    "    # read prefix in reverse order\n",
    "    i = len(prefix) - 1\n",
    "    while i >= 0:\n",
    "        if not isOperator(prefix[i]):\n",
    "             \n",
    "            # symbol is operand\n",
    "            stack.append(prefix[i])\n",
    "            i -= 1\n",
    "        else:\n",
    "           \n",
    "            # symbol is operator\n",
    "            str = \"(\" + stack.pop() + prefix[i] + stack.pop() + \")\"\n",
    "            stack.append(str)\n",
    "            i -= 1\n",
    "     \n",
    "    return stack.pop()\n",
    " \n",
    "def isOperator(c):\n",
    "    if c == \"*\" or c == \"+\" or c == \"-\" or c == \"/\" or c == \"^\" or c == \"(\" or c == \")\":\n",
    "        return True\n",
    "    else:\n",
    "        return False"
   ]
  },
  {
   "cell_type": "code",
   "execution_count": 22,
   "id": "2c524254",
   "metadata": {},
   "outputs": [
    {
     "name": "stdout",
     "output_type": "stream",
     "text": [
      "((A-(B/C))*((A/K)-L))\n"
     ]
    }
   ],
   "source": [
    "str = \"*-A/BC-/AKL\"\n",
    "print(prefixToInfix(str))"
   ]
  },
  {
   "cell_type": "code",
   "execution_count": null,
   "id": "1206d007",
   "metadata": {},
   "outputs": [],
   "source": [
    "#Q8. Write a program to check if all the brackets are closed in a given code snippet."
   ]
  },
  {
   "cell_type": "code",
   "execution_count": 1,
   "id": "a25630c3",
   "metadata": {},
   "outputs": [],
   "source": [
    "def brackets(expression):\n",
    "    all_br = ['()', '{}', '[]']\n",
    "    while any(x in expression for x in all_br):\n",
    "        for br in all_br:\n",
    "            expression = expression.replace(br, '')\n",
    "    return not expression"
   ]
  },
  {
   "cell_type": "code",
   "execution_count": 2,
   "id": "811a9425",
   "metadata": {},
   "outputs": [
    {
     "name": "stdout",
     "output_type": "stream",
     "text": [
      "([]{}() Not balanced\n"
     ]
    }
   ],
   "source": [
    "input_string = \"([]{}()\"\n",
    "if brackets(input_string):\n",
    "    print(input_string,\"balanced\")\n",
    "else:\n",
    "    print(input_string,\"Not balanced\")"
   ]
  },
  {
   "cell_type": "code",
   "execution_count": null,
   "id": "f68b4cf3",
   "metadata": {},
   "outputs": [],
   "source": []
  },
  {
   "cell_type": "code",
   "execution_count": 3,
   "id": "4a761244",
   "metadata": {},
   "outputs": [],
   "source": [
    "# create class for stack\n",
    "class Stack:\n",
    " \n",
    "    # create empty list\n",
    "    def __init__(self):\n",
    "        self.Elements = []\n",
    "         \n",
    "    # push() for insert an element\n",
    "    def push(self, value):\n",
    "        self.Elements.append(value)\n",
    "       \n",
    "    # pop() for remove an element\n",
    "    def pop(self):\n",
    "        return self.Elements.pop()\n",
    "     \n",
    "    # empty() check the stack is empty of not\n",
    "    def empty(self):\n",
    "        return self.Elements == []\n",
    "     \n",
    "    # show() display stack\n",
    "    def show(self):\n",
    "        for value in reversed(self.Elements):\n",
    "            print(value)\n",
    "#Insert_Bottom() insert value at bottom\n",
    "def BottomInsert(s, value):\n",
    "   \n",
    "    # check the stack is empty or not\n",
    "    if s.empty():\n",
    "         \n",
    "        # if stack is empty then call\n",
    "        # push() method.\n",
    "        s.push(value)\n",
    "         \n",
    "    # if stack is not empty then execute\n",
    "    # else block\n",
    "    else:\n",
    "        popped = s.pop()\n",
    "        BottomInsert(s, value)\n",
    "        s.push(popped)\n",
    "# Reverse() reverse the stack\n",
    "def Reverse(s):\n",
    "    if s.empty():\n",
    "        pass\n",
    "    else:\n",
    "        popped = s.pop()\n",
    "        Reverse(s)\n",
    "        BottomInsert(s, popped)"
   ]
  },
  {
   "cell_type": "code",
   "execution_count": 4,
   "id": "cedb521f",
   "metadata": {},
   "outputs": [
    {
     "name": "stdout",
     "output_type": "stream",
     "text": [
      "Original Stack\n",
      "5\n",
      "4\n",
      "3\n",
      "2\n",
      "1\n",
      "\n",
      "Stack after Reversing\n",
      "1\n",
      "2\n",
      "3\n",
      "4\n",
      "5\n"
     ]
    }
   ],
   "source": [
    "stk = Stack()\n",
    " \n",
    "stk.push(1)\n",
    "stk.push(2)\n",
    "stk.push(3)\n",
    "stk.push(4)\n",
    "stk.push(5)\n",
    " \n",
    "print(\"Original Stack\")\n",
    "stk.show()\n",
    " \n",
    "print(\"\\nStack after Reversing\")\n",
    "Reverse(stk)\n",
    "stk.show()\n"
   ]
  },
  {
   "cell_type": "code",
   "execution_count": null,
   "id": "b04bfadf",
   "metadata": {},
   "outputs": [],
   "source": []
  },
  {
   "cell_type": "code",
   "execution_count": 5,
   "id": "033a2fe0",
   "metadata": {},
   "outputs": [],
   "source": [
    "from collections import deque\n",
    " \n",
    "class MinStack:\n",
    "    def __init__(self):\n",
    "        # main stack to store elements\n",
    "        self.s = deque()\n",
    "        # variable to store the minimum element\n",
    "        self.min = None\n",
    " \n",
    "    # Inserts a given element on top of the stack\n",
    "    def push(self, val):\n",
    "        if not self.s:\n",
    "            self.s.append(val)\n",
    "            self.min = val\n",
    "        elif val > self.min:\n",
    "            self.s.append(val)\n",
    "        else:\n",
    "            self.s.append(2*val - self.min)\n",
    "            self.min = val\n",
    " \n",
    "    # Removes the top element from the stack\n",
    "    def pop(self):\n",
    "        if not self.s:\n",
    "            self.print('Stack underflow!!')\n",
    "            exit(-1)\n",
    "        top = self.s[-1]\n",
    "        if top < self.min:\n",
    "            self.min = 2*self.min - top\n",
    "        self.s.pop()\n",
    " \n",
    "    # Returns the minimum element from the stack in constant time\n",
    "    def getMin(self):\n",
    "        return self.min"
   ]
  },
  {
   "cell_type": "code",
   "execution_count": 7,
   "id": "67f22cc4",
   "metadata": {},
   "outputs": [
    {
     "name": "stdout",
     "output_type": "stream",
     "text": [
      "6\n",
      "6\n",
      "5\n",
      "3\n",
      "5\n",
      "6\n"
     ]
    }
   ],
   "source": [
    "s = MinStack()\n",
    "s.push(6)\n",
    "print(s.getMin())\n",
    " \n",
    "s.push(7)\n",
    "print(s.getMin())\n",
    " \n",
    "s.push(5)\n",
    "print(s.getMin())\n",
    " \n",
    "s.push(3)\n",
    "print(s.getMin())\n",
    " \n",
    "s.pop()\n",
    "print(s.getMin())\n",
    " \n",
    "s.pop()\n",
    "print(s.getMin())"
   ]
  },
  {
   "cell_type": "code",
   "execution_count": null,
   "id": "adfbdc29",
   "metadata": {},
   "outputs": [],
   "source": []
  }
 ],
 "metadata": {
  "kernelspec": {
   "display_name": "Python 3 (ipykernel)",
   "language": "python",
   "name": "python3"
  },
  "language_info": {
   "codemirror_mode": {
    "name": "ipython",
    "version": 3
   },
   "file_extension": ".py",
   "mimetype": "text/x-python",
   "name": "python",
   "nbconvert_exporter": "python",
   "pygments_lexer": "ipython3",
   "version": "3.9.7"
  }
 },
 "nbformat": 4,
 "nbformat_minor": 5
}
